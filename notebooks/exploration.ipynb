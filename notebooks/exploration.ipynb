{
 "cells": [
  {
   "cell_type": "markdown",
   "metadata": {},
   "source": [
    "# Explainable AI Quality Inspection - Data Exploration\n",
    "\n",
    "This notebook provides an introduction to exploring the quality inspection datasets and understanding the model behavior."
   ]
  },
  {
   "cell_type": "code",
   "execution_count": null,
   "metadata": {},
   "outputs": [],
   "source": [
    "# Import necessary libraries\n",
    "import sys\n",
    "import os\n",
    "sys.path.append('../src')\n",
    "\n",
    "import torch\n",
    "import torchvision.transforms as transforms\n",
    "import matplotlib.pyplot as plt\n",
    "import numpy as np\n",
    "from PIL import Image\n",
    "\n",
    "from data.dataset import QualityInspectionDataset\n",
    "from models.cnn_model import create_model\n",
    "from utils.visualization import plot_sample_predictions"
   ]
  },
  {
   "cell_type": "markdown",
   "metadata": {},
   "source": [
    "## 1. Dataset Exploration\n",
    "\n",
    "Let's start by exploring the dataset structure and sample images."
   ]
  },
  {
   "cell_type": "code",
   "execution_count": null,
   "metadata": {},
   "outputs": [],
   "source": [
    "# Load dataset\n",
    "data_dir = '../data'\n",
    "dataset = QualityInspectionDataset(data_dir, split='train')\n",
    "\n",
    "print(f\"Dataset size: {len(dataset)}\")\n",
    "print(f\"Number of classes: {dataset.num_classes}\")\n",
    "print(f\"Class names: {dataset.classes}\")"
   ]
  },
  {
   "cell_type": "markdown",
   "metadata": {},
   "source": [
    "## 2. Sample Visualization\n",
    "\n",
    "Display sample images from both classes."
   ]
  },
  {
   "cell_type": "code",
   "execution_count": null,
   "metadata": {},
   "outputs": [],
   "source": [
    "# Display sample images\n",
    "fig, axes = plt.subplots(2, 4, figsize=(15, 8))\n",
    "\n",
    "for i in range(8):\n",
    "    image, label = dataset[i * 100]  # Sample every 100th image\n",
    "    \n",
    "    # Convert tensor to PIL Image for display\n",
    "    if isinstance(image, torch.Tensor):\n",
    "        image = transforms.ToPILImage()(image)\n",
    "    \n",
    "    row = i // 4\n",
    "    col = i % 4\n",
    "    \n",
    "    axes[row, col].imshow(image)\n",
    "    axes[row, col].set_title(f'Class: {dataset.classes[label]}')\n",
    "    axes[row, col].axis('off')\n",
    "\n",
    "plt.tight_layout()\n",
    "plt.show()"
   ]
  },
  {
   "cell_type": "markdown",
   "metadata": {},
   "source": [
    "## 3. Model Loading and Prediction\n",
    "\n",
    "Load a pre-trained model and make predictions."
   ]
  },
  {
   "cell_type": "code",
   "execution_count": null,
   "metadata": {},
   "outputs": [],
   "source": [
    "# Load model (if available)\n",
    "model_path = '../results/models/best_model.pth'\n",
    "\n",
    "if os.path.exists(model_path):\n",
    "    model = create_model('resnet50', num_classes=2)\n",
    "    model.load_state_dict(torch.load(model_path, map_location='cpu'))\n",
    "    model.eval()\n",
    "    print(\"Model loaded successfully!\")\n",
    "else:\n",
    "    print(\"No pre-trained model found. Please train a model first using main.py\")"
   ]
  },
  {
   "cell_type": "markdown",
   "metadata": {},
   "source": [
    "## 4. Next Steps\n",
    "\n",
    "- Explore data distribution and class balance\n",
    "- Analyze model predictions and confidence scores\n",
    "- Generate explanations using LIME, SHAP, or GradCAM\n",
    "- Visualize model attention maps\n",
    "- Perform error analysis on misclassified samples"
   ]
  }
 ],
 "metadata": {
  "kernelspec": {
   "display_name": "Python 3",
   "language": "python",
   "name": "python3"
  },
  "language_info": {
   "codemirror_mode": {
    "name": "ipython",
    "version": 3
   },
   "file_extension": ".py",
   "mimetype": "text/x-python",
   "name": "python",
   "nbconvert_exporter": "python",
   "pygments_lexer": "ipython3",
   "version": "3.8.0"
  }
 },
 "nbformat": 4,
 "nbformat_minor": 4
}